{
 "cells": [
  {
   "cell_type": "code",
   "id": "initial_id",
   "metadata": {
    "collapsed": true,
    "ExecuteTime": {
     "end_time": "2024-12-08T16:25:58.390187Z",
     "start_time": "2024-12-08T16:25:58.380516Z"
    }
   },
   "source": [
    "tuple1 = (1, 2, 3, 4, 5, 6, 7, 8, 9 )\n",
    "tuple2 = ((12,67), (56,88), (126,'hello'))\n",
    "tuple3 = (23,'Dilek', 12.67, 'Nur', [12,'Bursa'])\n",
    "tuple4 = (8, (6, 9, 10 , ('Dileknur Dede', 5, 7)),45,16)\n",
    "\n",
    "tuple5 = tuple((7, 15, 24, 43)) #with using constructor\n",
    "tuple6 = 3,5,78\n",
    "\n",
    "tuple7 = (1,) #don't forget to put comma!!!\n",
    "print(\"tuple7 is:\",type(tuple7))\n",
    "\n",
    "tuple8 = (\"apple\") #it's not a tuple, it's string(str)\n",
    "print(\"tuple8 is: \",type(tuple8))\n",
    "\n",
    "tuple9 = ()\n",
    "print(tuple9)\n",
    "tuple10 = tuple1[2:5]\n",
    "print(tuple10)"
   ],
   "outputs": [
    {
     "name": "stdout",
     "output_type": "stream",
     "text": [
      "tuple7 is: <class 'tuple'>\n",
      "tuple8 is:  <class 'str'>\n",
      "()\n",
      "(3, 4, 5)\n"
     ]
    }
   ],
   "execution_count": 12
  },
  {
   "metadata": {
    "ExecuteTime": {
     "end_time": "2024-12-13T12:30:33.381053Z",
     "start_time": "2024-12-13T12:30:33.375370Z"
    }
   },
   "cell_type": "code",
   "source": [
    "tuple2 = (1,2,3,4,5,6,7)\n",
    "print(tuple2)    #priting tuple with a single command\n",
    "print(tuple2[0]) #accessing the 0.index\n",
    "\n",
    "tuple3 = (\"aaa\", \"bbb\", \"ccc\", \"ddd\", \"eee\")\n",
    "tuple3 = tuple3 + ('ffff',) #adding element to a tuple\n",
    "print(tuple3)\n",
    "\n",
    "tuple4 = (1,2,3,\"Sherlock\", \"Tom\", \"Leon\") #creatin a tuple\n",
    "print(tuple4.index(\"Leon\")) #searching the element index\n",
    "\n",
    "tuple5 = (1,23,34,34,2,1,4,5,1,1,34)\n",
    "tuple5.count(1) #counting the element we'd like\n",
    "\n",
    "tuple6 = (\"apple\", \"lemon\", \"banana\")\n",
    "# tuple6[0] = \"cherry\" \n",
    "# tupple's are cannot be changed\n",
    "\n",
    "tuple7 = (7,8, [77,45,89])\n",
    "# tuple7.append(77)\n",
    "# tupple's are cannot be changed\n",
    "\n",
    "tuple8 = tuple('KSBU')\n",
    "print(tuple8) "
   ],
   "id": "43f7deff6dbab4a2",
   "outputs": [
    {
     "name": "stdout",
     "output_type": "stream",
     "text": [
      "(1, 2, 3, 4, 5, 6, 7)\n",
      "1\n",
      "('aaa', 'bbb', 'ccc', 'ddd', 'eee', 'ffff')\n",
      "5\n",
      "('K', 'S', 'B', 'U')\n"
     ]
    }
   ],
   "execution_count": 1
  },
  {
   "metadata": {
    "ExecuteTime": {
     "end_time": "2024-12-08T17:02:36.402903Z",
     "start_time": "2024-12-08T17:02:36.365501Z"
    }
   },
   "cell_type": "code",
   "source": [
    "tuple1 = (\"aaa\", \"bbb\", \"ccc\", \"ddd\", \"eee\")\n",
    "for element in tuple1:\n",
    "    print(element)\n",
    "    \n",
    "for deg in tuple1:\n",
    "    print(deg, end = \" \")\n",
    "    \n",
    "print() \n",
    "\n",
    "len = len (tuple1)\n",
    "for deg in range(len):\n",
    "    print(tuple1[deg], end = ' ')\n",
    "\n",
    "print()\n",
    "\n",
    "deg = 0\n",
    "while deg < len:\n",
    "    \n"
   ],
   "id": "38392185a64b7b9",
   "outputs": [
    {
     "name": "stdout",
     "output_type": "stream",
     "text": [
      "aaa\n",
      "bbb\n",
      "ccc\n",
      "ddd\n",
      "eee\n",
      "aaa bbb ccc ddd eee \n"
     ]
    },
    {
     "ename": "TypeError",
     "evalue": "'int' object is not callable",
     "output_type": "error",
     "traceback": [
      "\u001B[0;31m---------------------------------------------------------------------------\u001B[0m",
      "\u001B[0;31mTypeError\u001B[0m                                 Traceback (most recent call last)",
      "Cell \u001B[0;32mIn[31], line 10\u001B[0m\n\u001B[1;32m      6\u001B[0m     \u001B[38;5;28mprint\u001B[39m(deg, end \u001B[38;5;241m=\u001B[39m \u001B[38;5;124m\"\u001B[39m\u001B[38;5;124m \u001B[39m\u001B[38;5;124m\"\u001B[39m)\n\u001B[1;32m      8\u001B[0m \u001B[38;5;28mprint\u001B[39m() \n\u001B[0;32m---> 10\u001B[0m lenght \u001B[38;5;241m=\u001B[39m \u001B[38;5;28mlen\u001B[39m (tuple1)\n\u001B[1;32m     11\u001B[0m \u001B[38;5;28;01mfor\u001B[39;00m deg \u001B[38;5;129;01min\u001B[39;00m \u001B[38;5;28mrange\u001B[39m(lenght):\n\u001B[1;32m     12\u001B[0m     \u001B[38;5;28mprint\u001B[39m(tuple1[deg], end \u001B[38;5;241m=\u001B[39m \u001B[38;5;124m'\u001B[39m\u001B[38;5;124m \u001B[39m\u001B[38;5;124m'\u001B[39m)\n",
      "\u001B[0;31mTypeError\u001B[0m: 'int' object is not callable"
     ]
    }
   ],
   "execution_count": 31
  },
  {
   "metadata": {
    "jupyter": {
     "is_executing": true
    }
   },
   "cell_type": "code",
   "source": "print(3)",
   "id": "a71928c4686d12be",
   "outputs": [],
   "execution_count": null
  }
 ],
 "metadata": {
  "kernelspec": {
   "display_name": "Python 3",
   "language": "python",
   "name": "python3"
  },
  "language_info": {
   "codemirror_mode": {
    "name": "ipython",
    "version": 2
   },
   "file_extension": ".py",
   "mimetype": "text/x-python",
   "name": "python",
   "nbconvert_exporter": "python",
   "pygments_lexer": "ipython2",
   "version": "2.7.6"
  }
 },
 "nbformat": 4,
 "nbformat_minor": 5
}
