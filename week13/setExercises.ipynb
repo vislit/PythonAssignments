{
 "cells": [
  {
   "cell_type": "code",
   "id": "initial_id",
   "metadata": {
    "collapsed": true
   },
   "source": [
    "#set is a unordered structure\n",
    "\n",
    "egSet = set(['einstein', 'tesla', 'darwin', 'tesla', 'curie', 'arf','einstein'])\n",
    "print(egSet) #no duplicate values --- IT'LL BE ON FINALS\n",
    "\n",
    "#crating a set with using constructor\n",
    "egset2 = set(('einstein', 'tesla', 'darwin', 'arf', 'curie' ))\n",
    "print(egset2) \n",
    "\n",
    "egSet3 = {'einstein', 'tesla', 'darwin', 'arf', 'curie' }\n",
    "\n",
    "for i in egSet3:\n",
    "    print(i)\n",
    "    \n",
    "#print(egSet3[0])\n",
    "#we can't access set elements directly but we may use list for that\n",
    "\n",
    "list_version = list(egSet3)\n",
    "print(list_version[0])"
   ],
   "outputs": [],
   "execution_count": null
  },
  {
   "metadata": {},
   "cell_type": "code",
   "source": [
    "s = 'hello_world'\n",
    "list(s) #['h', 'e', 'l', 'l', 'o', '_', 'w', 'o', 'r', 'l', 'd']\n",
    "set(s) #{'_', 'r', 'l', 'd', 'o', 'h', 'w', 'e'} \n",
    "#unordered\n",
    "\n",
    "dictionary = set() #a \"set can be empty\"\n",
    "bool(dictionary)"
   ],
   "id": "b528f23ddfcbaad",
   "outputs": [],
   "execution_count": null
  },
  {
   "metadata": {},
   "cell_type": "code",
   "source": [
    "dictionary = {43, 'dileknur', (1, 2, 3), 3.14159 }\n",
    "print(dictionary)\n",
    "\n",
    "#we can't change set elements directly, but we can do it with coverting set to a list\n",
    "\n",
    "list = [1, 2, 3, 4, 5]\n",
    "dictionary = set(list) \n",
    "\n",
    "y = set(\"python\")\n",
    "print(y) #unordered\n",
    "\n",
    "print(len(y))"
   ],
   "id": "ea9cb37567516e14",
   "outputs": [],
   "execution_count": null
  },
  {
   "metadata": {},
   "cell_type": "code",
   "source": [
    "dictionary = {'dileknur', 'yusuf', 'ibrahim'}\n",
    "print(len(dictionary))\n",
    "print('dileknur' in dictionary) #true\n",
    "print('helin' in dictionary) #false\n",
    "print('helin' not in dictionary) #true"
   ],
   "id": "16e176696608b46e",
   "outputs": [],
   "execution_count": null
  },
  {
   "metadata": {},
   "cell_type": "code",
   "source": [
    "egSet =  {'harry', 'hermione', 'ron'}\n",
    "egSet.add('snape')\n",
    "print(\"new chracter added:\",egSet)\n",
    "\n",
    "egSet.update([\"sirius\"])\n",
    "egSet.update([\"dumbledore\", \"voldemort\", \"malfoy\"])\n",
    "print(\"new chracters added:\",egSet)\n",
    "\n",
    "setExample = {\"a\", \"b\", \"c\"}\n",
    "listExample = [\"x\", \"y\", \"z\"]\n",
    "tupleExample = (1,2,3)\n",
    "\n",
    "setExample.update(listExample)\n",
    "setExample.update(tupleExample)\n",
    "\n",
    "print(setExample)\n"
   ],
   "id": "eaf05bbfde892f9c",
   "outputs": [],
   "execution_count": null
  },
  {
   "metadata": {},
   "cell_type": "code",
   "source": [
    "dictionary = {'harry', 'hermione', 'ron'}\n",
    "dictionary.remove('harry')\n",
    "print(dictionary)\n",
    "#dictionary.remove('harry')  --- KeyError"
   ],
   "id": "40f84de42802e22d",
   "outputs": [],
   "execution_count": null
  },
  {
   "metadata": {},
   "cell_type": "code",
   "source": [
    "dictionary = {'harry', 'hermione', 'ron'}\n",
    "dictionary.discard('harry')\n",
    "print(dictionary)\n",
    "dictionary.discard('harry')\n",
    "print(dictionary) #not causing error"
   ],
   "id": "68526a9861d5b09d",
   "outputs": [],
   "execution_count": null
  },
  {
   "metadata": {},
   "cell_type": "code",
   "source": [
    "dictionary = {'harry', 'hermione', 'ron'}\n",
    "#dictionary.pop('harry') ----- TypeError\n",
    "#dictionary.pop() ----- deleting a random element\n",
    "print(\"deleted character:\",dictionary.pop())\n",
    "print(dictionary)\n",
    "\n",
    "print(\"deleted character:\",dictionary.pop())\n",
    "print(dictionary)\n",
    "\n",
    "print(\"deleted character:\",dictionary.pop())\n",
    "print(dictionary)"
   ],
   "id": "733dc4a57060d361",
   "outputs": [],
   "execution_count": null
  },
  {
   "metadata": {},
   "cell_type": "code",
   "source": [
    "dictionary = {'harry', 'hermione', 'ron'}\n",
    "dictionary.clear() #deleting whole elements\n",
    "print(dictionary)"
   ],
   "id": "2cf96499eafc27f",
   "outputs": [],
   "execution_count": null
  },
  {
   "metadata": {},
   "cell_type": "code",
   "source": [
    "dictionary = {'harry', 'hermione', 'ron'}\n",
    "del(dictionary)\n",
    "#print(dictionary) ----- SyntaxError\n",
    "#deleted whole set structure"
   ],
   "id": "4daca9c61b4a3db0",
   "outputs": [],
   "execution_count": null
  },
  {
   "metadata": {},
   "cell_type": "markdown",
   "source": "",
   "id": "e373889651cc5e8c"
  },
  {
   "metadata": {},
   "cell_type": "code",
   "source": [
    "set1 = {\"a\", \"b\", \"c\"}\n",
    "set2 = {1, 2, 3}\n",
    "set3 = set1.union(set2)\n",
    "print(set3)"
   ],
   "id": "51d873e6534aab65",
   "outputs": [],
   "execution_count": null
  },
  {
   "metadata": {},
   "cell_type": "code",
   "source": [
    "set1 = {\"a\", \"b\", \"c\"}\n",
    "set2 = {1, 2, 3}\n",
    "set1.update(set2)\n",
    "print(set1) #we updated set1 "
   ],
   "id": "fd8083f8e6d275ec",
   "outputs": [],
   "execution_count": null
  },
  {
   "metadata": {},
   "cell_type": "code",
   "source": [
    "set1 = {\"A\", \"B\", \"C\"}\n",
    "set2 = {\"D\", \"E\"}\n",
    "set3 = set1.union(set2) #union is like or(|)\n",
    "print(set3)"
   ],
   "id": "8234b45fe36f8e00",
   "outputs": [],
   "execution_count": null
  },
  {
   "metadata": {},
   "cell_type": "code",
   "source": [
    "set1 = {\"A\", \"B\", \"C\"}\n",
    "set2 = {\"D\", \"E\"}\n",
    "set1.update(set2)\n",
    "print(set1)"
   ],
   "id": "c6d7d604b772c23d",
   "outputs": [],
   "execution_count": null
  },
  {
   "metadata": {},
   "cell_type": "code",
   "source": [
    "set1 = {\"A\", \"B\", \"C\"}\n",
    "set2 = {\"A\"}\n",
    "set3 = set1.union(set2)  #if the same element is included in a set, the other identical elements are removed until only one remains\n",
    "print(set3)"
   ],
   "id": "8d151b01a4d96df3",
   "outputs": [],
   "execution_count": null
  },
  {
   "metadata": {},
   "cell_type": "code",
   "source": [
    "#if we'd like to question intersection of two sets we use isdisjoint() method\n",
    "set1 = {\"A\", \"B\", \"C\"}\n",
    "set2 = {\"A\", \"D\"}\n",
    "set3 = {\"F\", \"G\"}\n",
    "print(set1.isdisjoint(set2)) #yes we have common elements, so it'll return false\n",
    "print(set1.isdisjoint(set3)) #no we don't have common elements, so it'll return true"
   ],
   "id": "28a6a19866245853",
   "outputs": [],
   "execution_count": null
  },
  {
   "metadata": {},
   "cell_type": "code",
   "source": [
    "set1 = {\"A\", \"B\", \"C\"}\n",
    "set2 = {\"A\", \"D\"}\n",
    "intersectionSet = set1.intersection(set2)\n",
    "print(intersectionSet)"
   ],
   "id": "ec1ea1abb4ac049b",
   "outputs": [],
   "execution_count": null
  },
  {
   "metadata": {},
   "cell_type": "code",
   "source": [
    "set1 = {\"A\", \"B\", \"C\"}\n",
    "set2 = {\"A\", \"D\"}\n",
    "set1.intersection_update(set2) #we can update set1 as like as intersection set (that's the difference with intersection()  method)\n",
    "print(set1)"
   ],
   "id": "a4c4cc3ca11b214c",
   "outputs": [],
   "execution_count": null
  },
  {
   "metadata": {},
   "cell_type": "code",
   "source": [
    "set1 = {\"A\", \"D\", \"G\"}\n",
    "set2 = {\"A\", \"B\", \"C\", \"D\"}\n",
    "\n",
    "differenceSet = set1.difference(set2) \n",
    "print(differenceSet)\n",
    "\n",
    "set3 = set1 - set2\n",
    "print(set3)"
   ],
   "id": "f5c74bbb180573b5",
   "outputs": [],
   "execution_count": null
  },
  {
   "metadata": {
    "ExecuteTime": {
     "end_time": "2024-12-19T13:00:02.575098Z",
     "start_time": "2024-12-19T13:00:02.571814Z"
    }
   },
   "cell_type": "code",
   "source": [
    "set1 = {\"A\", \"D\", \"G\"}\n",
    "set2 = {\"A\", \"B\", \"C\", \"D\"}\n",
    "\n",
    "set1.difference_update(set2) #we can update set1 as like as difference set (that's the difference with difference()  method)\n",
    "\n",
    "print(set1)"
   ],
   "id": "b35207b6747ba04c",
   "outputs": [
    {
     "name": "stdout",
     "output_type": "stream",
     "text": [
      "{'G'}\n"
     ]
    }
   ],
   "execution_count": 1
  },
  {
   "metadata": {},
   "cell_type": "code",
   "source": [
    "#IN FINAL pay attention if the set1 and set2 get switched\n",
    "set1 = {\"A\", \"B\"}\n",
    "set2 = {\"A\", \"B\", \"C\", \"D\"}\n",
    "print(\"Is this true that set1 sub set of set2? : \",set1.issubset(set2)) \n",
    "print(\"Is this true that set1 sub set of set2? :\",set2.issubset(set1))\n"
   ],
   "id": "6a4fe63773926a7a",
   "outputs": [],
   "execution_count": null
  },
  {
   "metadata": {},
   "cell_type": "code",
   "source": [
    "set1 = {\"A\", \"B\"}\n",
    "set2 = {\"A\", \"B\", \"C\", \"D\"}\n",
    "print(\"Is this true that set1 super set of set2?\",set1.issuperset(set2))\n",
    "print(\"Is this true that set1 super set of set2?\",set2.issuperset(set1))"
   ],
   "id": "2f11dd2b0c5de6",
   "outputs": [],
   "execution_count": null
  },
  {
   "metadata": {},
   "cell_type": "code",
   "source": [
    "set1 = {\"A\", \"B\"}\n",
    "set2 = {\"A\", \"B\", \"C\", \"D\"}\n",
    "set3 = set1.symmetric_difference(set2) #this method create a set with not-common elements\n",
    "print(set3)"
   ],
   "id": "bce4234efc505a47",
   "outputs": [],
   "execution_count": null
  },
  {
   "metadata": {},
   "cell_type": "code",
   "source": [
    "set1 = {\"A\", \"B\"}\n",
    "set2 = {\"A\", \"B\", \"C\", \"D\"}\n",
    "set1.symmetric_difference_update(set2) #added to set1\n",
    "print(set1)"
   ],
   "id": "f3983a0e5ef9aed9",
   "outputs": [],
   "execution_count": null
  }
 ],
 "metadata": {
  "kernelspec": {
   "display_name": "Python 3",
   "language": "python",
   "name": "python3"
  },
  "language_info": {
   "codemirror_mode": {
    "name": "ipython",
    "version": 2
   },
   "file_extension": ".py",
   "mimetype": "text/x-python",
   "name": "python",
   "nbconvert_exporter": "python",
   "pygments_lexer": "ipython2",
   "version": "2.7.6"
  }
 },
 "nbformat": 4,
 "nbformat_minor": 5
}
