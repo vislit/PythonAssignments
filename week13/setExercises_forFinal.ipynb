{
 "cells": [
  {
   "cell_type": "code",
   "id": "initial_id",
   "metadata": {
    "collapsed": true,
    "ExecuteTime": {
     "end_time": "2024-12-19T13:55:37.370739Z",
     "start_time": "2024-12-19T13:55:37.360165Z"
    }
   },
   "source": [
    "x1 = {'harry', 'hermione', 'ron'}\n",
    "x2 = {'sirius', 'remus', 'james'}\n",
    "print(x1 | x2)\n",
    "print(x1.union(x2)) #x2 added to x1\n",
    "print(x1.union(('sirius', 'remus', 'james')))\n",
    "\n",
    "print(\"\")\n",
    "\n",
    "a = {1, 2, 3, 4}\n",
    "b = {2, 3, 4, 5}\n",
    "c = {3, 4, 5, 6}\n",
    "d = {4, 5, 6, 7}\n",
    "print(a.union(b,c,d))\n",
    "print(a | b | c | d)\n",
    "\n",
    "print(x1.intersection(x2))\n",
    "print(x1 & x2)\n",
    "\n",
    "print(x1.intersection_update(x2))"
   ],
   "outputs": [
    {
     "name": "stdout",
     "output_type": "stream",
     "text": [
      "{'ron', 'hermione', 'remus', 'james', 'sirius', 'harry'}\n",
      "{'ron', 'hermione', 'remus', 'james', 'sirius', 'harry'}\n",
      "{'ron', 'hermione', 'remus', 'james', 'sirius', 'harry'}\n",
      "\n",
      "{1, 2, 3, 4, 5, 6, 7}\n",
      "{1, 2, 3, 4, 5, 6, 7}\n",
      "set()\n",
      "set()\n",
      "None\n"
     ]
    }
   ],
   "execution_count": 18
  },
  {
   "metadata": {
    "ExecuteTime": {
     "end_time": "2024-12-19T13:55:59.209228Z",
     "start_time": "2024-12-19T13:55:59.198585Z"
    }
   },
   "cell_type": "code",
   "source": [
    "a = {1, 2, 3, 30, 300}\n",
    "b = {10, 20, 30, 40}\n",
    "c = {100, 200, 300, 400}\n",
    "print(a.difference(b,c))\n",
    "print(a-b-c)\n",
    "\n",
    "print(b.difference(a))#(b - a)\n",
    "print(a.difference(b))#(a - b)\n",
    "\n",
    "#FINAL!!!!!\n",
    "print(a.difference_update(b)) #since this method returns None, it writes None to the screen when called in print()\n",
    "\n",
    "#if we want to update the a itself :\n",
    "a.difference_update(b)\n",
    "print(a)"
   ],
   "id": "9d33b2c6c8ca913a",
   "outputs": [
    {
     "name": "stdout",
     "output_type": "stream",
     "text": [
      "{1, 2, 3}\n",
      "{1, 2, 3}\n",
      "{40, 10, 20}\n",
      "{1, 2, 3, 300}\n",
      "None\n",
      "{1, 2, 3, 300}\n"
     ]
    }
   ],
   "execution_count": 19
  },
  {
   "metadata": {},
   "cell_type": "code",
   "source": [
    "a = {1, 2, 3, 4, 5}\n",
    "b = {10, 2, 3, 4, 50}\n",
    "c = {1, 50, 100}\n",
    "print(a.symmetric_difference(b).symmetric_difference(c))\n",
    "print(a ^ b ^ c) "
   ],
   "id": "cf8ec30c2f25572a",
   "outputs": [],
   "execution_count": null
  },
  {
   "metadata": {},
   "cell_type": "code",
   "source": [
    "x1 = {1, 3, 5}\n",
    "x2 = {2, 4, 6}\n",
    "print(x1.isdisjoint(x2)) #true because there are no common elements\n",
    "print(x1 & x2) #This operator returns the intersection of two sets.\n",
    "#In python \"set()\" means blank set."
   ],
   "id": "8377259764c4865f",
   "outputs": [],
   "execution_count": null
  },
  {
   "metadata": {},
   "cell_type": "code",
   "source": [
    "x1 = {'harry', 'hermione', 'ron'}\n",
    "print(x1.issubset({'sirius', 'harry', 'ron', 'hermione', 'remus'}))\n",
    "x2 = {'ron', 'sirius', 'remus'}\n",
    "x3 = {'harry'}\n",
    "print(x1 <= x2)\n",
    "print(x1 <= x1)\n",
    "print(x3 <= x1) #is it true that x2 is sub set of x1? --- true "
   ],
   "id": "e7753d7bfebcebfc",
   "outputs": [],
   "execution_count": null
  },
  {
   "metadata": {
    "ExecuteTime": {
     "end_time": "2024-12-19T13:25:31.552863Z",
     "start_time": "2024-12-19T13:25:31.544349Z"
    }
   },
   "cell_type": "code",
   "source": [
    "x1 = {'harry', 'hermione'}\n",
    "x2 = {'harry', 'hermione', 'ron'}\n",
    "print(x1 < x2)\n",
    "x3 = {'harry', 'hermione', 'ron'}\n",
    "x4 = {'harry', 'hermione', 'ron'}\n",
    "print(x3 < x4)\n",
    "print(x3 <= x4)"
   ],
   "id": "df6f82e3ca661e2a",
   "outputs": [
    {
     "name": "stdout",
     "output_type": "stream",
     "text": [
      "True\n",
      "False\n",
      "True\n"
     ]
    }
   ],
   "execution_count": 13
  },
  {
   "metadata": {
    "ExecuteTime": {
     "end_time": "2024-12-19T13:27:17.565418Z",
     "start_time": "2024-12-19T13:27:17.558655Z"
    }
   },
   "cell_type": "code",
   "source": [
    "x1 = {'harry', 'hermione', 'ron'}\n",
    "print(x1.issuperset({'harry', 'hermione'}))\n",
    "x2 = {'harry', 'remus', 'ron'}\n",
    "print(x1 >= x2)"
   ],
   "id": "c975f721702621cb",
   "outputs": [
    {
     "name": "stdout",
     "output_type": "stream",
     "text": [
      "True\n",
      "False\n"
     ]
    }
   ],
   "execution_count": 14
  },
  {
   "metadata": {
    "ExecuteTime": {
     "end_time": "2024-12-19T13:28:51.415495Z",
     "start_time": "2024-12-19T13:28:51.408056Z"
    }
   },
   "cell_type": "code",
   "source": [
    "x1 = {'harry', 'hermione', 'ron'}\n",
    "x2 = {'harry', 'hermione'}\n",
    "print(x1 > x2)\n",
    "x1 = {'harry', 'hermione', 'ron'}\n",
    "x2 = {'harry', 'hermione', 'ron'}\n",
    "print(x1 > x2)"
   ],
   "id": "a8306804a35e2c59",
   "outputs": [
    {
     "name": "stdout",
     "output_type": "stream",
     "text": [
      "True\n",
      "False\n"
     ]
    }
   ],
   "execution_count": 15
  },
  {
   "metadata": {
    "ExecuteTime": {
     "end_time": "2024-12-19T13:34:02.046157Z",
     "start_time": "2024-12-19T13:34:02.036849Z"
    }
   },
   "cell_type": "code",
   "source": [
    "x1 = {'harry', 'hermione', 'ron'}\n",
    "x2 = {'harry', 'ron', 'remus'}\n",
    "x1 |= x2 #\"or\" but no duplicated elements!\n",
    "print(x1)\n",
    "\n",
    "x1.update (['sirius', 'james'])\n",
    "print(x1)"
   ],
   "id": "bad71f093127b6c7",
   "outputs": [
    {
     "name": "stdout",
     "output_type": "stream",
     "text": [
      "{'ron', 'hermione', 'remus', 'harry'}\n",
      "{'ron', 'hermione', 'remus', 'james', 'sirius', 'harry'}\n"
     ]
    }
   ],
   "execution_count": 17
  }
 ],
 "metadata": {
  "kernelspec": {
   "display_name": "Python 3",
   "language": "python",
   "name": "python3"
  },
  "language_info": {
   "codemirror_mode": {
    "name": "ipython",
    "version": 2
   },
   "file_extension": ".py",
   "mimetype": "text/x-python",
   "name": "python",
   "nbconvert_exporter": "python",
   "pygments_lexer": "ipython2",
   "version": "2.7.6"
  }
 },
 "nbformat": 4,
 "nbformat_minor": 5
}
